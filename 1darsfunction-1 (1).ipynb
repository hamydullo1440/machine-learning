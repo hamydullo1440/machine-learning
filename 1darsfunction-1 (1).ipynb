{
 "cells": [
  {
   "cell_type": "code",
   "execution_count": 1,
   "id": "98c12809",
   "metadata": {},
   "outputs": [],
   "source": [
    "def plus_5(x):\n",
    "    print(x+5)"
   ]
  },
  {
   "cell_type": "code",
   "execution_count": 2,
   "id": "ff29ab36",
   "metadata": {},
   "outputs": [
    {
     "name": "stdout",
     "output_type": "stream",
     "text": [
      "30\n"
     ]
    }
   ],
   "source": [
    "plus_5(25)"
   ]
  },
  {
   "cell_type": "code",
   "execution_count": 3,
   "id": "2fd37e6f",
   "metadata": {},
   "outputs": [
    {
     "name": "stdout",
     "output_type": "stream",
     "text": [
      "23\n"
     ]
    }
   ],
   "source": [
    "a=7\n",
    "b=4\n",
    "print(a+4*b)"
   ]
  },
  {
   "cell_type": "code",
   "execution_count": 5,
   "id": "ca9eb30f",
   "metadata": {},
   "outputs": [
    {
     "name": "stdout",
     "output_type": "stream",
     "text": [
      "10\n"
     ]
    }
   ],
   "source": [
    "plus_5(5)"
   ]
  },
  {
   "cell_type": "code",
   "execution_count": 6,
   "id": "c526501a",
   "metadata": {},
   "outputs": [],
   "source": [
    "def daraja(a,b):\n",
    "    print(a**b)"
   ]
  },
  {
   "cell_type": "code",
   "execution_count": 7,
   "id": "84605931",
   "metadata": {},
   "outputs": [
    {
     "name": "stdout",
     "output_type": "stream",
     "text": [
      "625\n"
     ]
    }
   ],
   "source": [
    "daraja(5,4)"
   ]
  },
  {
   "cell_type": "code",
   "execution_count": null,
   "id": "dc492197",
   "metadata": {},
   "outputs": [],
   "source": [
    "def hello():\n",
    "    name=input(str('ismingizni kiriting:'))\n",
    "    print(f\"Salom {name}\")"
   ]
  },
  {
   "cell_type": "code",
   "execution_count": 10,
   "id": "fe3e167d",
   "metadata": {},
   "outputs": [
    {
     "ename": "NameError",
     "evalue": "name 'hello' is not defined",
     "output_type": "error",
     "traceback": [
      "\u001b[0;31m---------------------------------------------------------------------------\u001b[0m",
      "\u001b[0;31mNameError\u001b[0m                                 Traceback (most recent call last)",
      "Cell \u001b[0;32mIn[10], line 1\u001b[0m\n\u001b[0;32m----> 1\u001b[0m \u001b[43mhello\u001b[49m()\n",
      "\u001b[0;31mNameError\u001b[0m: name 'hello' is not defined"
     ]
    }
   ],
   "source": [
    "hello()"
   ]
  },
  {
   "cell_type": "code",
   "execution_count": 9,
   "id": "b9e1d3a6",
   "metadata": {},
   "outputs": [],
   "source": [
    "def hello2(Python):\n",
    "    print(f\" Salom {Python}\")"
   ]
  },
  {
   "cell_type": "code",
   "execution_count": 11,
   "id": "87aab396",
   "metadata": {},
   "outputs": [
    {
     "name": "stdout",
     "output_type": "stream",
     "text": [
      " Salom Hello \n"
     ]
    }
   ],
   "source": [
    "hello2('Hello ')"
   ]
  },
  {
   "cell_type": "code",
   "execution_count": 12,
   "id": "b5df9284",
   "metadata": {},
   "outputs": [
    {
     "name": "stdout",
     "output_type": "stream",
     "text": [
      "9\n"
     ]
    }
   ],
   "source": [
    "def daraja2(a,b):\n",
    "    return a+b\n",
    "result=daraja2(4,5)\n",
    "print(result)"
   ]
  },
  {
   "cell_type": "code",
   "execution_count": 13,
   "id": "77f88749",
   "metadata": {},
   "outputs": [],
   "source": [
    "def daraja3(a,b):\n",
    "    return a+b"
   ]
  },
  {
   "cell_type": "code",
   "execution_count": 14,
   "id": "75bc7278",
   "metadata": {},
   "outputs": [
    {
     "data": {
      "text/plain": [
       "13"
      ]
     },
     "execution_count": 14,
     "metadata": {},
     "output_type": "execute_result"
    }
   ],
   "source": [
    "daraja3(6,7)"
   ]
  },
  {
   "cell_type": "code",
   "execution_count": 16,
   "id": "217c0a60",
   "metadata": {},
   "outputs": [],
   "source": [
    "def sonlar(a,b):\n",
    "    if a>b:\n",
    "        return('a soni katta')\n",
    "    elif a<b:\n",
    "        print('b soni katta')\n",
    "    else:\n",
    "        print('ikkala son teng')"
   ]
  },
  {
   "cell_type": "code",
   "execution_count": 17,
   "id": "70035125",
   "metadata": {},
   "outputs": [
    {
     "name": "stdout",
     "output_type": "stream",
     "text": [
      "b soni katta\n"
     ]
    }
   ],
   "source": [
    "sonlar(4,5)"
   ]
  },
  {
   "cell_type": "code",
   "execution_count": null,
   "id": "98709dc1",
   "metadata": {},
   "outputs": [],
   "source": []
  },
  {
   "cell_type": "code",
   "execution_count": null,
   "id": "1fb91dc2",
   "metadata": {},
   "outputs": [],
   "source": []
  },
  {
   "cell_type": "code",
   "execution_count": null,
   "id": "39f92997",
   "metadata": {},
   "outputs": [],
   "source": []
  },
  {
   "cell_type": "code",
   "execution_count": null,
   "id": "897f2182",
   "metadata": {},
   "outputs": [],
   "source": []
  },
  {
   "cell_type": "code",
   "execution_count": null,
   "id": "46fa6315",
   "metadata": {},
   "outputs": [],
   "source": []
  }
 ],
 "metadata": {
  "kernelspec": {
   "display_name": "Python 3",
   "language": "python",
   "name": "python3"
  },
  "language_info": {
   "codemirror_mode": {
    "name": "ipython",
    "version": 3
   },
   "file_extension": ".py",
   "mimetype": "text/x-python",
   "name": "python",
   "nbconvert_exporter": "python",
   "pygments_lexer": "ipython3",
   "version": "3.9.6"
  }
 },
 "nbformat": 4,
 "nbformat_minor": 5
}
